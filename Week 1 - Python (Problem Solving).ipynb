{
 "cells": [
  {
   "cell_type": "markdown",
   "id": "d060fa32",
   "metadata": {},
   "source": [
    "### PA Solutions"
   ]
  },
  {
   "cell_type": "markdown",
   "id": "16d5d0b9",
   "metadata": {},
   "source": [
    "### Problem 1\n",
    "Print the first 5 positive integers in ascending order with one number in each line."
   ]
  },
  {
   "cell_type": "code",
   "execution_count": 1,
   "id": "03a3427e",
   "metadata": {},
   "outputs": [
    {
     "name": "stdout",
     "output_type": "stream",
     "text": [
      "1\n",
      "2\n",
      "3\n",
      "4\n",
      "5\n"
     ]
    }
   ],
   "source": [
    "for i in range(1,6):\n",
    "    print(i)"
   ]
  },
  {
   "cell_type": "markdown",
   "id": "3ddb881c",
   "metadata": {},
   "source": [
    "### Problem 2\n",
    "\n",
    "Accept an integer as input and print its square as output. \n",
    "\n",
    "Note: Do not worry about the \\n that you observe in the expected output. It can be ignored."
   ]
  },
  {
   "cell_type": "code",
   "execution_count": 5,
   "id": "e8efa4b4",
   "metadata": {},
   "outputs": [
    {
     "name": "stdout",
     "output_type": "stream",
     "text": [
      "Enter a number 7\n",
      "49\n"
     ]
    }
   ],
   "source": [
    "n=int(input(\"Enter a number \"))\n",
    "s=n**(2)\n",
    "print(s)"
   ]
  },
  {
   "cell_type": "markdown",
   "id": "afadbf0c",
   "metadata": {},
   "source": [
    "### Problem 3\n",
    "Accept two integers as input and print their sum as output."
   ]
  },
  {
   "cell_type": "code",
   "execution_count": 6,
   "id": "08bf7d8a",
   "metadata": {},
   "outputs": [
    {
     "name": "stdout",
     "output_type": "stream",
     "text": [
      "4\n",
      "6\n",
      "10\n"
     ]
    }
   ],
   "source": [
    "a = int(input())\n",
    "b = int(input())\n",
    "sum_R = a+b\n",
    "print(sum_R)"
   ]
  },
  {
   "cell_type": "markdown",
   "id": "d5955b4d",
   "metadata": {},
   "source": [
    "### Problem 4\n",
    "Accept two words as input and print the two words after adding a space between them."
   ]
  },
  {
   "cell_type": "code",
   "execution_count": 7,
   "id": "d400065e",
   "metadata": {},
   "outputs": [
    {
     "name": "stdout",
     "output_type": "stream",
     "text": [
      "dev\n",
      "singh\n",
      "dev singh\n"
     ]
    }
   ],
   "source": [
    "p = str(input())\n",
    "q = str(input())\n",
    "print(p,q)"
   ]
  },
  {
   "cell_type": "markdown",
   "id": "3de5b530",
   "metadata": {},
   "source": [
    "### Problem 5\n",
    "Accept the registration number of a vehicle as input and print its state-code as output."
   ]
  },
  {
   "cell_type": "code",
   "execution_count": 8,
   "id": "15756628",
   "metadata": {},
   "outputs": [
    {
     "name": "stdout",
     "output_type": "stream",
     "text": [
      "TN-10-AB-2010\n",
      "TN\n"
     ]
    }
   ],
   "source": [
    "RN = str(input())\n",
    "print(RN[:2])"
   ]
  },
  {
   "cell_type": "markdown",
   "id": "cc67f592",
   "metadata": {},
   "source": [
    "### Problem 6\n",
    "Accept a five digit number as input and print the sum of its digits as output."
   ]
  },
  {
   "cell_type": "code",
   "execution_count": 9,
   "id": "1b523602",
   "metadata": {},
   "outputs": [
    {
     "name": "stdout",
     "output_type": "stream",
     "text": [
      "12345\n",
      "15\n"
     ]
    }
   ],
   "source": [
    "num = str(input())\n",
    "b = 0\n",
    "for i in range(5):\n",
    "    a = int(num[i])\n",
    "    b +=a\n",
    "print(b)"
   ]
  },
  {
   "attachments": {
    "image.png": {
     "image/png": "[encoded data removed]"
    }
   },
   "cell_type": "markdown",
   "id": "254a8f62",
   "metadata": {},
   "source": [
    "### Problem 7\n",
    "Print the following pattern. There is exactly one space between any two consecutive numbers on any line. There are no spaces at the end of any line.\n",
    "![image.png](attachment:image.png)"
   ]
  },
  {
   "cell_type": "code",
   "execution_count": 17,
   "id": "93a43c65",
   "metadata": {},
   "outputs": [
    {
     "name": "stdout",
     "output_type": "stream",
     "text": [
      "1 2 1 \n",
      "1 2 3 2 1 \n",
      "1 2 3 4 3 2 1 \n",
      "1 2 3 4 5 4 3 2 1 \n"
     ]
    }
   ],
   "source": [
    " for i in range(2,6):\n",
    "        for j in range(1,i+1):\n",
    "            print(j, end=' ')\n",
    "        for j in range(i-1,0,-1):\n",
    "            print(j, end=' ')\n",
    "        print()"
   ]
  },
  {
   "cell_type": "code",
   "execution_count": 18,
   "id": "2a88131e",
   "metadata": {},
   "outputs": [
    {
     "name": "stdout",
     "output_type": "stream",
     "text": [
      "1 2 1\n",
      "1 2 3 2 1\n",
      "1 2 3 4 3 2 1\n",
      "1 2 3 4 5 4 3 2 1\n"
     ]
    }
   ],
   "source": [
    "# Alternative Method\n",
    "L = [\n",
    "    \"1 2 1\",\n",
    "    \"1 2 3 2 1\",\n",
    "    \"1 2 3 4 3 2 1\",\n",
    "    \"1 2 3 4 5 4 3 2 1\"\n",
    "]\n",
    "for line in L:\n",
    "    print(line)"
   ]
  },
  {
   "cell_type": "markdown",
   "id": "23224df7",
   "metadata": {},
   "source": [
    "### Problem 8\n",
    "A simple algorithm has to be designed to find out whether a student belongs to the Data Science branch or not. The input will be a student's roll number, which is of the form BR18B0000. Here, BR represents the branch code, 18 represents the year of joining, B represents the education level and 0000 represents the specific identification given to the student of that batch. The branch code for Data Science is DS. Print True if the student belongs to Data Science branch and False otherwise."
   ]
  },
  {
   "cell_type": "code",
   "execution_count": 20,
   "id": "4f8b7314",
   "metadata": {},
   "outputs": [
    {
     "name": "stdout",
     "output_type": "stream",
     "text": [
      "Enter the roll number DS18B0000\n",
      "True\n"
     ]
    }
   ],
   "source": [
    "rn = str(input(\"Enter the roll number \"))\n",
    "print(rn[:2] == \"DS\")"
   ]
  },
  {
   "cell_type": "markdown",
   "id": "a4fb2808",
   "metadata": {},
   "source": [
    "### Problem 9\n",
    "The police are trying to track a criminal based on the evidence available at a crime site. Their main clue is a vehicle's damaged number plate. Only the string TN07 is visible. The format of the registration number is AA00AA00, where the first two letters are alphabets, next two are numbers, next two are again alphabets followed by two numbers at the end. A number plate is picked from a database of registration numbers and is given to you as input. Your task is to determine if this could belong to the criminal or not. Print True if the number plate contains TN07 and False otherwise."
   ]
  },
  {
   "cell_type": "code",
   "execution_count": 22,
   "id": "bdfa8514",
   "metadata": {},
   "outputs": [
    {
     "name": "stdout",
     "output_type": "stream",
     "text": [
      "TN07TN01\n",
      "True\n"
     ]
    }
   ],
   "source": [
    "np = str(input())\n",
    "print(np[:4]==\"TN07\" or np[4:]==\"TN07\")"
   ]
  },
  {
   "cell_type": "markdown",
   "id": "7364f51f",
   "metadata": {},
   "source": [
    "### Problem 10\n",
    "Accept two integers 𝑎 and 𝑏 as input and print the absolute difference of both the numbers. For example, if a=9, b=8, then the absolute difference is 9−8=1. So, your output should be 1."
   ]
  },
  {
   "cell_type": "code",
   "execution_count": 25,
   "id": "89bce9d9",
   "metadata": {},
   "outputs": [
    {
     "name": "stdout",
     "output_type": "stream",
     "text": [
      "Enter the first number: 8\n",
      "Enter the second number: 6\n",
      "2\n"
     ]
    }
   ],
   "source": [
    "a = int(input(\"Enter the first number: \"))\n",
    "b = int(input(\"Enter the second number: \"))\n",
    "square = (b-a)**2\n",
    "root = square ** 0.5\n",
    "print(int(root))"
   ]
  },
  {
   "cell_type": "code",
   "execution_count": 26,
   "id": "ec962488",
   "metadata": {},
   "outputs": [
    {
     "name": "stdout",
     "output_type": "stream",
     "text": [
      "8\n",
      "5\n",
      "3\n"
     ]
    }
   ],
   "source": [
    "# Alternative Method\n",
    "a=int(input())\n",
    "b=int(input())\n",
    "print(abs(a-b))"
   ]
  },
  {
   "cell_type": "markdown",
   "id": "0b85e354",
   "metadata": {},
   "source": [
    "### Problem 11\n",
    "You are given a string and two non-negative integers as input. The two integers specify the start and end indices of a substring in the given string. Create a new string by replicating the substring a minimum number of times so that the resulting string is longer than the input string.\n",
    "\n",
    "The input parameters are the string, start index of the substring and the end index of substring (endpoints inclusive) each on a different line."
   ]
  },
  {
   "cell_type": "code",
   "execution_count": 29,
   "id": "2245ab7e",
   "metadata": {},
   "outputs": [
    {
     "name": "stdout",
     "output_type": "stream",
     "text": [
      "siddhartha\n",
      "0\n",
      "3\n",
      "siddsiddsidd\n"
     ]
    }
   ],
   "source": [
    "s = str(input())\n",
    "sub_s = s[int(input()):int(input())+1]\n",
    "mint = len(s)//len(sub_s)+1\n",
    "print(sub_s*mint)"
   ]
  },
  {
   "attachments": {
    "image.png": {
     "image/png": "[encoded data removed]"
    }
   },
   "cell_type": "markdown",
   "id": "f38ea230",
   "metadata": {},
   "source": [
    "### Problem 12\n",
    "The following expression is called a continued fraction:\n",
    "![image.png](attachment:image.png)\n",
    "Accept a positive integer 𝑥 as input, compute the value of this continued fraction and store the result in a variable named cfrac. We will round off your answer to exactly two decimal places. You don't have to print the output to the console, we will take care of that."
   ]
  },
  {
   "cell_type": "code",
   "execution_count": 31,
   "id": "bbeec21b",
   "metadata": {},
   "outputs": [
    {
     "name": "stdout",
     "output_type": "stream",
     "text": [
      "2\n",
      "2.414285714285714\n"
     ]
    }
   ],
   "source": [
    "x = int(input())\n",
    "cfrac = x\n",
    "cfrac = x + 1/cfrac\n",
    "cfrac = x + 1/cfrac\n",
    "cfrac = x + 1/cfrac\n",
    "cfrac = x + 1/cfrac\n",
    "cfrac = x + 1/cfrac\n",
    "print(cfrac)"
   ]
  },
  {
   "cell_type": "markdown",
   "id": "cea738a7",
   "metadata": {},
   "source": [
    "### GA Solutions"
   ]
  },
  {
   "cell_type": "markdown",
   "id": "91fa0167",
   "metadata": {},
   "source": [
    "### Problem 1\n",
    "Accept five words as input and print the sentence formed by these words after adding a space between consecutive words and a full stop at the end."
   ]
  },
  {
   "cell_type": "code",
   "execution_count": 32,
   "id": "9dcbf06f",
   "metadata": {},
   "outputs": [
    {
     "name": "stdout",
     "output_type": "stream",
     "text": [
      "this\n",
      "is\n",
      "a\n",
      "good\n",
      "idea\n",
      "this is a good idea.\n"
     ]
    }
   ],
   "source": [
    "a = input()\n",
    "b = input()\n",
    "c = input()\n",
    "d = input()\n",
    "e = input()\n",
    "print(a, b, c, d, e+'.')"
   ]
  },
  {
   "cell_type": "markdown",
   "id": "0052e1cb",
   "metadata": {},
   "source": [
    "### Problem 2\n",
    "Accept the date in DD-MM-YYYY format as input and print the year as output."
   ]
  },
  {
   "cell_type": "code",
   "execution_count": 33,
   "id": "4d7cbb78",
   "metadata": {},
   "outputs": [
    {
     "name": "stdout",
     "output_type": "stream",
     "text": [
      "25-01-1992\n",
      "1992\n"
     ]
    }
   ],
   "source": [
    "D=str(input())\n",
    "print(D[6:])"
   ]
  },
  {
   "cell_type": "markdown",
   "id": "e0d6121b",
   "metadata": {},
   "source": [
    "### Problem 3\n",
    "Accept a sequence of five single digit numbers separated by commas as input. Print the product of all five numbers."
   ]
  },
  {
   "cell_type": "code",
   "execution_count": 36,
   "id": "0f2f0b26",
   "metadata": {},
   "outputs": [
    {
     "name": "stdout",
     "output_type": "stream",
     "text": [
      "1,2,3,4,5\n",
      "120\n"
     ]
    }
   ],
   "source": [
    "num = input()\n",
    "a =int(num[0])\n",
    "b =int(num[2])\n",
    "c =int(num[4])\n",
    "d =int(num[6])\n",
    "e =int(num[8])\n",
    "product = a*b*c*d*e\n",
    "print(product)"
   ]
  },
  {
   "cell_type": "markdown",
   "id": "a442505a",
   "metadata": {},
   "source": [
    "### Problem 4\n",
    "Assume that several IITs start offering online degrees across multiple branches. The email-id of a student is defined as follows:\n",
    "\n",
    "branch_degree_year_roll@student.onlinedegree.institute.ac.in\n",
    "\n",
    "For example, if the email-id is CS_BT_21_7412@student.onlinedegree.iitm.ac.in, then this student is from the computer science branch, pursuing a B.Tech. degree from IITM, starting from the year 2021, with 7412 as the roll number. Branch, degree and year are codes of length two, while roll and institute are codes of length four. Accept a student's email-id as input and print the following details, one item on each line:\n",
    "\n",
    "(1) Branch\n",
    "\n",
    "(2) Degree\n",
    "\n",
    "(3) Year\n",
    "\n",
    "(4) Roll number\n",
    "\n",
    "(5) Institute"
   ]
  },
  {
   "cell_type": "code",
   "execution_count": 37,
   "id": "4f33ba23",
   "metadata": {},
   "outputs": [
    {
     "name": "stdout",
     "output_type": "stream",
     "text": [
      "CS_BT_21_7412@student.onlinedegree.iitm.ac.in\n",
      "CS\n",
      "BT\n",
      "21\n",
      "7412\n",
      "iitm\n"
     ]
    }
   ],
   "source": [
    "email = input()\n",
    "branch = email[:2]\n",
    "degree = email[3: 5]\n",
    "year = email[6:8]\n",
    "roll = email[9:13]\n",
    "institute = email[-10:-6]\n",
    "\n",
    "print(branch)\n",
    "print(degree)\n",
    "print(year)\n",
    "print(roll)\n",
    "print(institute)"
   ]
  },
  {
   "cell_type": "markdown",
   "id": "531d173b",
   "metadata": {},
   "source": [
    "### Problem 5\n",
    "Accept two positive integers x and y as input. Print the number of digits in x^y. "
   ]
  },
  {
   "cell_type": "code",
   "execution_count": 39,
   "id": "05666338",
   "metadata": {},
   "outputs": [
    {
     "name": "stdout",
     "output_type": "stream",
     "text": [
      "2\n",
      "10\n",
      "4\n"
     ]
    }
   ],
   "source": [
    "x=int(input())\n",
    "y=int(input())\n",
    "num = str(x**y)\n",
    "print(len(num))"
   ]
  },
  {
   "cell_type": "markdown",
   "id": "8cd321f1",
   "metadata": {},
   "source": [
    "### Problem 6\n",
    "Accept two positive integers M and N as input. There are two cases to consider:\n",
    "\n",
    "(1) If M < N, then print M as output.\n",
    "\n",
    "(2) If M >= N, subtract N from M. Call the difference M1. If M_1 >= N, then subtract N from M_1 and call the difference M_2. Keep doing this operation until you reach a value k, such that, M_k < N. You have to print the value of M_k as output."
   ]
  },
  {
   "cell_type": "code",
   "execution_count": 40,
   "id": "3eda3001",
   "metadata": {},
   "outputs": [
    {
     "name": "stdout",
     "output_type": "stream",
     "text": [
      "5\n",
      "2\n",
      "1\n"
     ]
    }
   ],
   "source": [
    "M = int(input())\n",
    "N = int(input())\n",
    "print(M % N)"
   ]
  },
  {
   "cell_type": "code",
   "execution_count": null,
   "id": "337e6833",
   "metadata": {},
   "outputs": [],
   "source": []
  }
 ],
 "metadata": {
  "kernelspec": {
   "display_name": "Python 3 (ipykernel)",
   "language": "python",
   "name": "python3"
  },
  "language_info": {
   "codemirror_mode": {
    "name": "ipython",
    "version": 3
   },
   "file_extension": ".py",
   "mimetype": "text/x-python",
   "name": "python",
   "nbconvert_exporter": "python",
   "pygments_lexer": "ipython3",
   "version": "3.11.5"
  }
 },
 "nbformat": 4,
 "nbformat_minor": 5
}
